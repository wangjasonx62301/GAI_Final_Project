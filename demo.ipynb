{
 "cells": [
  {
   "cell_type": "code",
   "execution_count": null,
   "metadata": {},
   "outputs": [],
   "source": [
    "!pip install -r requirements.txt"
   ]
  },
  {
   "cell_type": "code",
   "execution_count": null,
   "metadata": {},
   "outputs": [],
   "source": [
    "from model.encode_decode_model import *\n",
    "from model.text_model import *\n",
    "from utils.config import *\n",
    "from scripts.image_text_gen import *\n",
    "from scripts.train_encoder import *\n",
    "\n",
    "if __name__ == '__main__':\n",
    "    \n",
    "    encoder_checkpoint = 'checkpoint\\\\encoder.pt'\n",
    "    decoder_checkpoint = 'checkpoint\\\\decoder.pt'\n",
    "    EncoderDecoder_checkpoint = 'checkpoint\\\\text_gen_train_for_100_iters.pt'\n",
    "    \n",
    "    # load encoder\n",
    "    if encoder_checkpoint == None:    \n",
    "        # training encoder\n",
    "        encoder = Encoder(config).to(config.device)\n",
    "        train_encoder(encoder)\n",
    "    else : \n",
    "        encoder = Encoder(config).to(config.device)\n",
    "        load_checkpoint(encoder, encoder_checkpoint)\n",
    "    print('=======================================')\n",
    "    print('-       load encoder complete         -')\n",
    "    print('=======================================')\n",
    "    # load decoder\n",
    "    if decoder_checkpoint == None:\n",
    "        # training decoder\n",
    "        decoder = Decoder(config).to(config.device)\n",
    "        optim = torch.optim.AdamW(decoder.parameters(), lr=config.lr)\n",
    "        train_gen(decoder, optim)\n",
    "    \n",
    "    else:\n",
    "        decoder = Decoder(config).to(config.device)\n",
    "        load_checkpoint(decoder, decoder_checkpoint)\n",
    "    print('=======================================')\n",
    "    print('-       load decoder complete         -')\n",
    "    print('=======================================')\n",
    "    # load EncoderDecoder\n",
    "    if EncoderDecoder_checkpoint == None:\n",
    "        model = EncoderDecoderModel(encoder=encoder, decoder=decoder, config=config).to(config.device)\n",
    "        optim = torch.optim.AdamW(model.parameters(), lr=config.lr)\n",
    "        train_image_text(model, optim, config.train_df, config.valid_df, config.train_image_dir, config.valid_image_dir)\n",
    "    else :\n",
    "        model = EncoderDecoderModel(encoder=encoder, decoder=decoder, config=config).to(config.device)\n",
    "        load_checkpoint(model, EncoderDecoder_checkpoint)\n",
    "    print('=======================================')\n",
    "    print('-    load EncoderDecoder complete     -')\n",
    "    print('=======================================')\n",
    "    # make submission.csv\n",
    "    get_submission(model)        "
   ]
  }
 ],
 "metadata": {
  "language_info": {
   "name": "python"
  }
 },
 "nbformat": 4,
 "nbformat_minor": 2
}
