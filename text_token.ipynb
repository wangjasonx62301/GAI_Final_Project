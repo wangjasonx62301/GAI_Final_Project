{
 "cells": [
  {
   "cell_type": "code",
   "execution_count": 1,
   "metadata": {},
   "outputs": [],
   "source": [
    "from model.text_model import *\n",
    "from data.prepare import *\n",
    "from utils.config import *\n",
    "from scripts.train_text_gen import *"
   ]
  },
  {
   "cell_type": "code",
   "execution_count": 2,
   "metadata": {},
   "outputs": [
    {
     "name": "stdout",
     "output_type": "stream",
     "text": [
      "\n",
      "Chest plain film view showed:\n",
      "Impression:\n",
      "Suspicious pulmonary edema. Superimposed pneumonia cannot be excluded.\n",
      "The mediastinum is not widened.\n",
      "Normal heart size.\n",
      "DJD of spine.\n",
      "Mild scoliosis of spine.\n",
      "S/P fixation in Lspine.\n",
      "S/P Lt subclavian PortAcath.\n",
      "S/P NG tube\n"
     ]
    }
   ],
   "source": [
    "model = Decoder(config).to(config.device)\n",
    "optim = torch.optim.AdamW(model.parameters(), lr=config.lr)\n",
    "# # print('--------finish loading--------')\n",
    "# # print('--------start training--------')\n",
    "# train_gen(model, optim)\n",
    "load_checkpoint(model, 'text_gen_train_for_30000_iters.pt')\n",
    "print(generate_report(model))"
   ]
  }
 ],
 "metadata": {
  "kernelspec": {
   "display_name": "Python 3",
   "language": "python",
   "name": "python3"
  },
  "language_info": {
   "codemirror_mode": {
    "name": "ipython",
    "version": 3
   },
   "file_extension": ".py",
   "mimetype": "text/x-python",
   "name": "python",
   "nbconvert_exporter": "python",
   "pygments_lexer": "ipython3",
   "version": "3.11.9"
  }
 },
 "nbformat": 4,
 "nbformat_minor": 2
}
